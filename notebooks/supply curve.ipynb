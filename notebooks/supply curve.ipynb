{
 "cells": [
  {
   "cell_type": "code",
   "execution_count": 1,
   "metadata": {},
   "outputs": [
    {
     "data": {
      "text/plain": [
       "\"\\ndef makeSupplyCurveDf(df, vreCol, vreVal, lcoeCol, summationCol):\\n    vredf = df[df[vreCol] == vreVal].sort_values(by=lcoeCol)\\n    vredf['cummulative'] = vredf[summationCol].cumsum()\\n    return vredf\\n    \\n\""
      ]
     },
     "execution_count": 1,
     "metadata": {},
     "output_type": "execute_result"
    }
   ],
   "source": [
    "import os\n",
    "import sys\n",
    "topFolder = os.getcwd().split('\\\\').pop(-1)\n",
    "moduleDirectory = os.getcwd()[:-len(topFolder)]\n",
    "sys.path.append(moduleDirectory)\n",
    "\n",
    "from reporting import *\n",
    "\n"
   ]
  },
  {
   "cell_type": "code",
   "execution_count": 46,
   "metadata": {},
   "outputs": [
    {
     "name": "stdout",
     "output_type": "stream",
     "text": [
      "hR_m_2002_waves10000_RPS90_fcost100_newfuelcost.db\n"
     ]
    },
    {
     "name": "stderr",
     "output_type": "stream",
     "text": [
      "C:\\Users\\ucqba01\\AppData\\Local\\Continuum\\Anaconda3\\lib\\site-packages\\ipykernel_launcher.py:11: SettingWithCopyWarning:\n",
      "\n",
      "\n",
      "A value is trying to be set on a copy of a slice from a DataFrame.\n",
      "Try using .loc[row_indexer,col_indexer] = value instead\n",
      "\n",
      "See the caveats in the documentation: http://pandas.pydata.org/pandas-docs/stable/indexing.html#indexing-view-versus-copy\n",
      "\n",
      "C:\\Users\\ucqba01\\AppData\\Local\\Continuum\\Anaconda3\\lib\\site-packages\\pandas\\core\\generic.py:3813: SettingWithCopyWarning:\n",
      "\n",
      "\n",
      "A value is trying to be set on a copy of a slice from a DataFrame\n",
      "\n",
      "See the caveats in the documentation: http://pandas.pydata.org/pandas-docs/stable/indexing.html#indexing-view-versus-copy\n",
      "\n"
     ]
    }
   ],
   "source": [
    "DATApath = r'C:\\Users\\ucqba01\\Documents\\Local Data\\Round 6'\n",
    "db = 'hR_m_2002_waves10000_RPS90_fcost100_newfuelcost.db'\n",
    "print(db)\n",
    "con = sq.connect(DATApath + '\\\\' + db)\n",
    "path = DATApath\n",
    "VREsupply = getSupplyCurves(80, [80, 100, 120, 140], con)\n",
    "\n",
    "def plotSupplyCurves(df, X, Y, series, title, file, png=False):\n",
    "    data = []\n",
    "    for ser in df[series].unique():\n",
    "        vredf = makeSupplyCurveDf(df, series, ser, Y, X)\n",
    "        vredf['cummulative']=vredf['cummulative'].shift(1)\n",
    "        vredf['cummulative'].fillna(0)\n",
    "        trace = lineTrace(vredf, 'cummulative', Y, ser)\n",
    "        data.append(trace)\n",
    "\n",
    "    axis_template = dict(showgrid=True, zeroline=True, showline=True)  # ,mirror='all')\n",
    "    yax = axis_template\n",
    "    yax['title'] = 'LCOE (£/MWh)'\n",
    "    xax = axis_template\n",
    "    xax['title'] = 'Cummulative Supply (TWh/yr)'\n",
    "\n",
    "    layout = go.Layout(title=title, xaxis=xax, yaxis=yax, legend=dict(x=0.7, y=0.95))\n",
    "    layout['xaxis']['range']=[0,2000]\n",
    "    fig = go.Figure(data=data, layout=layout)\n",
    "\n",
    "    py.offline.plot(fig, filename=file, auto_open=True)\n",
    "\n",
    "plotSupplyCurves(VREsupply, 'potential_generation_TWh', 'potential_lcoe(£/MWh)', 'series', 'Input Supply Curve',\n",
    "                           path + '\\\\compare\\\\%s.html' % 'test')\n"
   ]
  }
 ],
 "metadata": {
  "kernelspec": {
   "display_name": "Python 3",
   "language": "python",
   "name": "python3"
  },
  "language_info": {
   "codemirror_mode": {
    "name": "ipython",
    "version": 3
   },
   "file_extension": ".py",
   "mimetype": "text/x-python",
   "name": "python",
   "nbconvert_exporter": "python",
   "pygments_lexer": "ipython3",
   "version": "3.6.1"
  }
 },
 "nbformat": 4,
 "nbformat_minor": 2
}
